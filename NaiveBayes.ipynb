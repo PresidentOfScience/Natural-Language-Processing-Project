{
 "cells": [
  {
   "cell_type": "code",
   "execution_count": 8,
   "metadata": {},
   "outputs": [],
   "source": [
    "import pandas as pd\n",
    "from nltk.tokenize import word_tokenize\n",
    "from nltk.stem import SnowballStemmer, WordNetLemmatizer\n",
    "from nltk.corpus import stopwords, wordnet\n",
    "import random\n",
    "from nltk.probability import FreqDist\n",
    "from nltk.tag import pos_tag\n",
    "from nltk.classify import NaiveBayesClassifier, accuracy\n",
    "import string"
   ]
  },
  {
   "cell_type": "code",
   "execution_count": 9,
   "metadata": {},
   "outputs": [],
   "source": [
    "def preprocess_data(text):\n",
    "    text = str(text).lower()\n",
    "    word_list = word_tokenize(text)\n",
    "    \n",
    "    ind_stopwords = stopwords.words('indonesian')\n",
    "    word_list = [word for word in word_list if word not in ind_stopwords]\n",
    "\n",
    "    punctuation_list = string.punctuation\n",
    "    word_list = [word for word in word_list if word not in punctuation_list]\n",
    "\n",
    "    word_list = [word for word in word_list if word.isalpha()]\n",
    "\n",
    "    wnl = WordNetLemmatizer()\n",
    "    word_list = [wnl.lemmatize(word) for word in word_list]\n",
    "\n",
    "    return word_list"
   ]
  },
  {
   "cell_type": "code",
   "execution_count": 10,
   "metadata": {},
   "outputs": [],
   "source": [
    "def extract_features(document):\n",
    "    all_words = []\n",
    "    for text in document:\n",
    "        clean_word_list = preprocess_data(text)\n",
    "        all_words.extend(clean_word_list)\n",
    "    \n",
    "    fd = FreqDist(all_words)\n",
    "    common_words = [word for word, count in fd.most_common(500)]\n",
    "    common_words = list(set(common_words))\n",
    "    return common_words"
   ]
  },
  {
   "cell_type": "code",
   "execution_count": 11,
   "metadata": {},
   "outputs": [],
   "source": [
    "def extract_dataset():\n",
    "    PATH = \"dataset.csv\"\n",
    "    dataset = pd.read_csv(PATH)\n",
    "\n",
    "    missing = dataset[dataset['sentimen'].isnull()].index\n",
    "    dataset.loc[missing, 'sentimen'] = 2\n",
    "\n",
    "    word_dictionary = extract_features(dataset['Tweet'])\n",
    "\n",
    "    document = []\n",
    "    for index, data in dataset.iterrows():\n",
    "        features = {}\n",
    "        tweet = preprocess_data(data['Tweet'])\n",
    "        for feature in word_dictionary:\n",
    "            key = feature\n",
    "            value = feature in tweet\n",
    "            features[key] = value\n",
    "        \n",
    "        label = 'negatif' if data['sentimen'] >= 2 else 'positif'\n",
    "\n",
    "        document.append((features, label))\n",
    "    \n",
    "    return document"
   ]
  },
  {
   "cell_type": "code",
   "execution_count": 12,
   "metadata": {},
   "outputs": [],
   "source": [
    "def train_data(document):\n",
    "    random.shuffle(document)\n",
    "    training_amount = int(len(document)*0.7)\n",
    "    training_data = document[:training_amount]\n",
    "    testing_data = document[training_amount:]\n",
    "\n",
    "    classifier = NaiveBayesClassifier.train(training_data)\n",
    "    classifier.show_most_informative_features(5)\n",
    "    print(f\"Training Accuracy : {round(accuracy(classifier, testing_data)*100, 2)}%\")"
   ]
  },
  {
   "cell_type": "code",
   "execution_count": 15,
   "metadata": {},
   "outputs": [],
   "source": [
    "dataset = extract_dataset()"
   ]
  },
  {
   "cell_type": "code",
   "execution_count": 16,
   "metadata": {},
   "outputs": [
    {
     "name": "stdout",
     "output_type": "stream",
     "text": [
      "Most Informative Features\n",
      "                   banci = True           negati : positi =     57.8 : 1.0\n",
      "                    bego = True           negati : positi =     49.6 : 1.0\n",
      "                brengsek = True           negati : positi =     48.4 : 1.0\n",
      "                   anjir = True           negati : positi =     36.1 : 1.0\n",
      "                giveaway = True           positi : negati =     26.5 : 1.0\n",
      "Training Accuracy : 75.73%\n"
     ]
    }
   ],
   "source": [
    "classifier = train_data(dataset)"
   ]
  }
 ],
 "metadata": {
  "kernelspec": {
   "display_name": "Python 3",
   "language": "python",
   "name": "python3"
  },
  "language_info": {
   "codemirror_mode": {
    "name": "ipython",
    "version": 3
   },
   "file_extension": ".py",
   "mimetype": "text/x-python",
   "name": "python",
   "nbconvert_exporter": "python",
   "pygments_lexer": "ipython3",
   "version": "3.10.9"
  },
  "orig_nbformat": 4
 },
 "nbformat": 4,
 "nbformat_minor": 2
}
